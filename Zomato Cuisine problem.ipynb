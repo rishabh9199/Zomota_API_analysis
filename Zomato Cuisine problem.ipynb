{
 "cells": [
  {
   "cell_type": "code",
   "execution_count": 8,
   "metadata": {},
   "outputs": [
    {
     "name": "stdout",
     "output_type": "stream",
     "text": [
      "73\n"
     ]
    }
   ],
   "source": [
    "#Fetch the cuisine_id of ‘Mexican’ cuisine using Zomato API.\n",
    "import requests\n",
    "import json\n",
    "header ={\"Accept\": \"application/json\",\"user-key\":\"1c01a833e8781b43294fe13e219423f7\"}\n",
    "r=requests.get(\"https://developers.zomato.com/api/v2.1/cuisines\",headers=header,params={'city_id':280})\n",
    "b=r.json()\n",
    "for i in b.values(): \n",
    "    for j in i: \n",
    "        if j['cuisine']['cuisine_name'] =='Mexican': \n",
    "            print(j['cuisine']['cuisine_id'])"
   ]
  },
  {
   "cell_type": "code",
   "execution_count": 4,
   "metadata": {},
   "outputs": [
    {
     "name": "stdout",
     "output_type": "stream",
     "text": [
      "subzone 104\n"
     ]
    }
   ],
   "source": [
    "#Fetch the entityid and entitytype of place Connaught Place.\n",
    "import requests\n",
    "import json\n",
    "header ={\"Accept\": \"application/json\",\"user-key\":\"1c01a833e8781b43294fe13e219423f7\"}\n",
    "r=requests.get(\"https://developers.zomato.com/api/v2.1/locations\",headers=header,params={'query':'Connaught Place'})\n",
    "b=r.json()\n",
    "c=b['location_suggestions'][0]['entity_type']\n",
    "d=b['location_suggestions'][0]['entity_id']\n",
    "print(c,d)"
   ]
  },
  {
   "cell_type": "code",
   "execution_count": 9,
   "metadata": {},
   "outputs": [
    {
     "name": "stdout",
     "output_type": "stream",
     "text": [
      "Farzi Cafe 4.5 18233593\n",
      "Chili's Grill & Bar 4.5 18537536\n",
      "Ministry Of Beer 4.3 18418277\n",
      "Xero Degrees 4.3 18729557\n",
      "Unplugged Courtyard 4.2 18216901\n",
      "Pebble Street 4.2 309859\n",
      "The Beer Cafe - BIGGIE 4.2 307060\n",
      "Chaayos - Meri Wali Chai 4.2 18237315\n",
      "Rodeo Cantina & Kitchen 4.1 18673403\n",
      "38 Barracks 4.1 18241537\n"
     ]
    }
   ],
   "source": [
    "#Fetch the top 10 best-rated restaurant serving ‘Mexican’ cuisine present in Connaught Place.\n",
    "#Print the restaurant name, user rating and restaurant id.\n",
    "import requests\n",
    "import json\n",
    "header ={\"Accept\": \"application/json\",\"user-key\":\"1c01a833e8781b43294fe13e219423f7\"}\n",
    "r=requests.get(\"https://developers.zomato.com/api/v2.1/search\",headers=header,params={'entity_id':'104','entity_type':'subzone',\n",
    "'cuisines':'73','sort':'rating','order':'desc'})\n",
    "b=r.json()\n",
    "#print(r.url)\n",
    "c=b['restaurants']\n",
    "for i in range(0,10):\n",
    "    print(c[i][\"restaurant\"]['name'],c[i][\"restaurant\"]['user_rating'][\"aggregate_rating\"],c[i][\"restaurant\"]['id'])"
   ]
  },
  {
   "cell_type": "code",
   "execution_count": 10,
   "metadata": {},
   "outputs": [
    {
     "name": "stdout",
     "output_type": "stream",
     "text": [
      "6\n"
     ]
    }
   ],
   "source": [
    "#Fetch the category id of category type ‘Cafes’ using Zomato API.\n",
    "import requests\n",
    "import json\n",
    "header ={\"Accept\": \"application/json\",\"user-key\":\"1c01a833e8781b43294fe13e219423f7\"}\n",
    "r=requests.get(\"https://developers.zomato.com/api/v2.1/categories\",headers=header)\n",
    "b=r.json()\n",
    "c=b['categories']\n",
    "for i in c:\n",
    "    if i['categories']['name']=='Cafes':\n",
    "        print(i['categories']['id'])"
   ]
  },
  {
   "cell_type": "code",
   "execution_count": 15,
   "metadata": {},
   "outputs": [
    {
     "name": "stdout",
     "output_type": "stream",
     "text": [
      "Xero Degrees 4.3 18729557\n",
      "Chaayos - Meri Wali Chai 4.2 18237315\n",
      "The Art House Bar n Cafe 3.9 18863766\n",
      "Cafe Coffee Day - The Square 3.5 303034\n"
     ]
    }
   ],
   "source": [
    "#Fetch the best-rated restaurant for ‘Mexican’ cuisine with category type ‘ Cafes’ present in Connaught Place using Zomato API.\n",
    "#Print the restaurant name, user rating and restaurant id.\n",
    "import requests\n",
    "import json\n",
    "header ={\"Accept\": \"application/json\",\"user-key\":\"1c01a833e8781b43294fe13e219423f7\"}\n",
    "r=requests.get(\"https://developers.zomato.com/api/v2.1/search\",headers=header,params={'entity_id':'104','entity_type':'subzone',\n",
    "               'cuisines':'73','sort':'rating','order':'desc','category':\"6\"})\n",
    "b=r.json()\n",
    "c=b['restaurants']\n",
    "for i in range(0,4):\n",
    "    print(c[i][\"restaurant\"]['name'],c[i][\"restaurant\"]['user_rating'][\"aggregate_rating\"],c[i][\"restaurant\"]['id'])"
   ]
  },
  {
   "cell_type": "code",
   "execution_count": 16,
   "metadata": {},
   "outputs": [
    {
     "name": "stdout",
     "output_type": "stream",
     "text": [
      "Sania 4 Amazing place to visit near me\n",
      "Foodingsss 5 This is a very nice,big cafe located in the heart of Delhi (cp) I visited this place on Sunday at it was amazing as usual. The live performance was great. The singer was also happy to take song requests. Being in cp... there's always a space restraint,but it wasn't that restricted. Seating was easily available. The staff is very polite and friendly and the food was also good but the pizza we ordered was served too cold and crispy like a papad. But otherwise the place is really cool and nice to chill with family and friends ... especially for the music lovers. The music band and singer was exceptionally talented. Highly recommended 👍\n",
      "Jasleen Kaur 5 Amazing place Lively atmosphere  Courteous staff Beautiful decor Delicious food\n",
      "Ratish Bansal 4 I have already been here thrice and definitely many more visits to come. •\tLocation: 5/5 Being in CP doesn't require any explanation •\tAmbience/Music: 5/5 I visited on Saturday and it was Sufi night. The live performance was great. The singer was also happy to take song requests. •\tSeating:4.5/5 Being in CP, there’s always a space constraint, but it wasn't that restricted. Seating was easily available. •\tService: 5/5 The service was quick, and food was served hot. Food Ordered: •\tCrispy Nachos and DIP: 5/5 •\tRainbow Pizza :4.5/5 Drinks Ordered: •\tMilitary Camp 4.5/5 •\tGarrison 4.5/5 Extra Plus Points:  •\tZomato Gold is accepted here which makes is cost effective. •\tStag entry is allowed, which is good for all boys group, especially during weekends. Overall Rating:4.5/5\n",
      "The Foody Passport Holder 4 Beautiful place with nice decore and staff is also good. Price is a bit on a higher level as compared to food but yes if you want to visit a new place or just try something new this is the best option 💖 With love. The Foody Passport Holder\n"
     ]
    }
   ],
   "source": [
    "#Fetch the latest review of the best-rated restaurant for ‘Mexican’ cuisine \n",
    "#wth Category type ‘Cafes’ present in Connaught Place using Zomato API.\n",
    "import requests\n",
    "import json\n",
    "header ={\"Accept\": \"application/json\",\"user-key\":\"1c01a833e8781b43294fe13e219423f7\"}\n",
    "r=requests.get(\"https://developers.zomato.com/api/v2.1/reviews\",headers=header,params={\"res_id\":18241537})\n",
    "b=r.json()\n",
    "c=b['user_reviews']\n",
    "for i in range(0,5):\n",
    "    print(c[i][\"review\"]['user']['name'],c[i][\"review\"]['rating'],c[i][\"review\"]['review_text'])"
   ]
  },
  {
   "cell_type": "code",
   "execution_count": null,
   "metadata": {},
   "outputs": [],
   "source": []
  }
 ],
 "metadata": {
  "kernelspec": {
   "display_name": "Python 3",
   "language": "python",
   "name": "python3"
  },
  "language_info": {
   "codemirror_mode": {
    "name": "ipython",
    "version": 3
   },
   "file_extension": ".py",
   "mimetype": "text/x-python",
   "name": "python",
   "nbconvert_exporter": "python",
   "pygments_lexer": "ipython3",
   "version": "3.7.6"
  }
 },
 "nbformat": 4,
 "nbformat_minor": 4
}
