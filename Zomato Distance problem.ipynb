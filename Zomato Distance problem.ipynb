{
 "cells": [
  {
   "cell_type": "code",
   "execution_count": 1,
   "metadata": {},
   "outputs": [],
   "source": [
    "#Distance is also a very important factor while selecting a restaurant. \n",
    "#Suppose you are at Coding Ninjas and you want to select the restaurant which is near to you using Zomato API.\n",
    "#Note down the latitude and longitude of Coding Ninjas using Google Maps\n",
    "#There is a list of questions related to restaurant near me given in the next section.\n"
   ]
  },
  {
   "cell_type": "code",
   "execution_count": 2,
   "metadata": {},
   "outputs": [
    {
     "name": "stdout",
     "output_type": "stream",
     "text": [
      "193\n"
     ]
    }
   ],
   "source": [
    "#Fetch the cuisine_id of of cuisine ‘BBQ’ using Zomato API.\n",
    "import requests\n",
    "import json\n",
    "header ={\"Accept\": \"application/json\",\"user-key\":\"1c01a833e8781b43294fe13e219423f7\"}\n",
    "r=requests.get(\"https://developers.zomato.com/api/v2.1/cuisines\",headers=header,params={'city_id':280})\n",
    "b=r.json()\n",
    "for i in b.values():\n",
    "    for j in i:\n",
    "        if j['cuisine']['cuisine_name'] =='BBQ':\n",
    "            print(j['cuisine']['cuisine_id'])"
   ]
  },
  {
   "cell_type": "code",
   "execution_count": 3,
   "metadata": {},
   "outputs": [
    {
     "name": "stdout",
     "output_type": "stream",
     "text": [
      "Themis Barbecue House 4.2 18204820 Netaji Subhash Place\n",
      "Barbeque Nation 4.5 9561 Netaji Subhash Place\n",
      "New Bombay Bar-Be-Que 3.5 5303 Prashant Vihar\n",
      "Amazings Kitchen 0 19370424 Prashant Vihar\n",
      "Moet's Barbeque 0 19238917 Alipur\n",
      "UBQ by Barbeque Nation 3.2 18889760 Rohini\n",
      "Kays Bar-Be-Que 3.9 3079 Ashok Vihar Phase 1\n",
      "Chicken Adda 0 19179179 Rohini\n",
      "7teen BBQ Bistro Bnq 3.9 18595610 Moti Nagar\n",
      "Pishori Chicken 0 19061375 Kirti Nagar\n"
     ]
    }
   ],
   "source": [
    "#Fetch the list of the top 10 restaurants serving cuisine ‘BBQ’ which are nearest to Coding Ninjas.\n",
    "import requests\n",
    "import json\n",
    "header ={\"Accept\": \"application/json\",\"user-key\":\"1c01a833e8781b43294fe13e219423f7\"}\n",
    "r=requests.get(\"https://developers.zomato.com/api/v2.1/search\",headers=header,params={'lat':28.697522,'lon':77.140681,\n",
    "               'cuisines':'193','sort':'real_distance','order':'asc'})\n",
    "b=r.json()\n",
    "#print(b)\n",
    "c=b['restaurants']\n",
    "for i in range(0,10):\n",
    "    print(c[i][\"restaurant\"]['name'],c[i][\"restaurant\"]['user_rating'][\"aggregate_rating\"],c[i][\"restaurant\"]['id'],c[i][\"restaurant\"]['location']['locality'])"
   ]
  },
  {
   "cell_type": "code",
   "execution_count": 4,
   "metadata": {},
   "outputs": [
    {
     "name": "stdout",
     "output_type": "stream",
     "text": [
      "Sakshi Sabnani 4 We organized a get together here..ambiance and drinks was good but the food was not upto the mark but if you are going for dine out the food is good..maybe they weren't able to cater the party well.\n",
      "ANNANT VASHIST 5 I celebrated my bday in Themis barbecue . I enjoyed a lot and the staff was really good nd the food is very delicious .\n",
      "Sangeeta Kalita (thatcravingfoodie) 4 Visited them last month. On entering, you realise that the indoor seating area is not that spacious. I wanted to be seated outdoors, but then it's only allowed for dinner time. I wasn't very taken by the ambiance.  Coming to the food, I opted for the non-vegetarian buffet option. For drinks, I chose a litchi based mocktail. You could also go for beer or whisky which I think I should have chosen too, now that I think of it. But there's no use crying over spilled milk now. So coming back to my litchi mocktail, let me say it was awesome. Tart and sweet and zingy. Was a pleasant accompaniment to the starters. I really liked the chilly fish, chicken tikka, crispy corn. Cajun potatoes lacked that kick and mutton seekh was really dry. The paneer tikka too wasn't flavourful enough. And the pizza base was very tough.  The main course was so delicious. I am a manchow soup lover. And I helped myself to bowls of the veg manchow soup. Then I came across chicken hot and sour soup and gobbled that up too. I also tried different salads I think you could and should skip them. The chicken biryani and mutton rogan josh warmed up my soul with their distinctly spiced flavours. The biryani deserves special mention with the overwhelming aroma of whole spices and chunky chicken pieces. The rogan josh curry was hot and spicy and I was satisfied then and there. Nevertheless, greed occupied me again while going through other dishes and this time I helped myself to hakka chowmein and stir fried veggies in basil chilly sauce (yeah it's veg. Don't be surprised). The veggie gravy was utterly savoury and had so much going on. Sweet, sour, salty, that fresh basil hit. And by then I realised I was almost full and had to end my main course eating spree.  Coming to desserts, gulab jamuns were soul warming. The chocolate pastry was lush and bitter and kept me wanting more. The tarts were creamy and crumbley. Delicious. Moong dal halwa was all ghee and nuts and heavenly. And the strawberry ice cream was creamy and screamed fresh strawberries and not the artificial colour and flavour stuff.  Overall, it was a decent experience. Although I think cutting out the live music part during afternoons wouldn't be a bad idea afterall. It felt kinda loud and claustrophobic. The service was not bad. The prices were moderate. I paid 1300+ for two non-veg lunch buffets.\n",
      "Medhavi 5 Enjoyed a wide range of dishes at this buffet outlet with aesthetic interiors and designer exteriors. Scrumptious barbeque starters with grilled chicken,fish tikka in skewers on the table. Sipped on a variety of mocktails plus the singer was there to entertain throughout our time there. The main course dishes were made very well with excellent sea food, dum biryani , paneer dishes, types of breads and exquisite desserts to choose from namely white chocolate brownie , pineapple pastries , truffle cake and cut fruits. Would definitely recommend to one and all.\n",
      "Piyush Matreja 5 Live singing, spectacular ambience and every one enjoying to the grilled kebabs on their table, that's Themis barbeque all about. Based on the concept of buffet where you start with snacks on the table with cool mocktails. I tried the lemon ice tea and charred prawns tikka as well as chicken malai tikka ,their non veg starters were great. Main course I had mutton rogan josh with lachha parantha and enjoyed a few of my favourite desserts namely strawberry tarts and a chocolate truffle cake with cherries. I must say that was a good lunch I relished after long.\n"
     ]
    }
   ],
   "source": [
    "#Fetch the latest review of the restaurant serving cuisine ‘BBQ’ which is most nearest to Coding ninjas?\n",
    "import requests\n",
    "import json\n",
    "header ={\"Accept\": \"application/json\",\"user-key\":\"1c01a833e8781b43294fe13e219423f7\"}\n",
    "r=requests.get(\"https://developers.zomato.com/api/v2.1/reviews\",headers=header,params={\"res_id\":18204820})\n",
    "b=r.json()\n",
    "c=b['user_reviews']\n",
    "for i in range(0,5):\n",
    "    print(c[i][\"review\"]['user']['name'],c[i][\"review\"]['rating'],c[i][\"review\"]['review_text'])"
   ]
  },
  {
   "cell_type": "code",
   "execution_count": 5,
   "metadata": {},
   "outputs": [
    {
     "name": "stdout",
     "output_type": "stream",
     "text": [
      "Indian Accent 4.9 2004 The Lodhi, Lodhi Road\n",
      "Cafe Lota 4.9 305525 Pragati Maidan\n",
      "Pa Pa Ya 4.9 18429148 Select Citywalk Mall, Saket\n",
      "The Big Chill 4.9 1614 Khan Market\n",
      "Carnatic Cafe 4.9 7843 Lodhi Colony\n",
      "Kuremal Mohan Lal Kulfi Wale 4.9 303642 Chawri Bazar\n",
      "Dum-Pukht - ITC Maurya 4.9 2744 ITC Maurya, Chanakyapuri\n",
      "Cocktails & Dreams, Speakeasy 4.9 300716 Sector 15\n",
      "The Big Chill 4.9 8244 Khan Market\n",
      "Natural Ice Cream 4.8 310143 Connaught Place\n"
     ]
    }
   ],
   "source": [
    "#Experiment with the radius parameter that is present in ‘GET/search’.\n",
    "#Fetch the list of top 10 best-restaurant present in a radius of 4 km of coding ninjas.\n",
    "import requests\n",
    "import json\n",
    "header ={\"Accept\": \"application/json\",\"user-key\":\"1c01a833e8781b43294fe13e219423f7\"}\n",
    "r=requests.get(\"https://developers.zomato.com/api/v2.1/search\",headers=header,params={'lat':28.697522,'lon':77.140681,'radius':4000.0,\n",
    "               'sort':'rating','order':'desc'})\n",
    "b=r.json()\n",
    "#print(b)\n",
    "c=b['restaurants']\n",
    "for i in range(0,10):\n",
    "    print(c[i][\"restaurant\"]['name'],c[i][\"restaurant\"]['user_rating'][\"aggregate_rating\"],c[i][\"restaurant\"]['id'],c[i][\"restaurant\"]['location']['locality'])"
   ]
  },
  {
   "cell_type": "code",
   "execution_count": null,
   "metadata": {},
   "outputs": [],
   "source": []
  }
 ],
 "metadata": {
  "kernelspec": {
   "display_name": "Python 3",
   "language": "python",
   "name": "python3"
  },
  "language_info": {
   "codemirror_mode": {
    "name": "ipython",
    "version": 3
   },
   "file_extension": ".py",
   "mimetype": "text/x-python",
   "name": "python",
   "nbconvert_exporter": "python",
   "pygments_lexer": "ipython3",
   "version": "3.7.6"
  }
 },
 "nbformat": 4,
 "nbformat_minor": 4
}
