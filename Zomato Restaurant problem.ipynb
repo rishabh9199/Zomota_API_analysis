{
 "cells": [
  {
   "cell_type": "code",
   "execution_count": 1,
   "metadata": {},
   "outputs": [],
   "source": [
    "#Problem 2\n",
    "#\"Pa Pa Ya\" is a modern Asian bistro & tapas bar from the House of Massive Restaurants and best described as a\n",
    "#chic, modern and radical reinterpretation of Asian cuisine.\n",
    "#You have heard from your friends that restaurant \"Pa Pa Ya\" in Delhi is quite good. \n",
    "#So now you want to extract the information related to \"Pa Pa Ya\" using Zomato API.\n",
    "#There is a list of questions related to the restaurant given in the next section.\n"
   ]
  },
  {
   "cell_type": "code",
   "execution_count": 2,
   "metadata": {},
   "outputs": [
    {
     "name": "stdout",
     "output_type": "stream",
     "text": [
      "3.9\n",
      "1400\n",
      "North Indian, Continental, Italian, Chinese\n",
      "G-15/B, Vijay Nagar, New Delhi\n"
     ]
    }
   ],
   "source": [
    "#Fetch the details of \"Pa Pa Ya\" restaurant using Zomato API.\n",
    "#Print the user rating, the average cost for two, cuisines and address of \"Pa Pa Ya\" restaurant.\n",
    "import requests\n",
    "import json\n",
    "header ={\"Accept\": \"application/json\",\"user-key\":\"1c01a833e8781b43294fe13e219423f7\"}\n",
    "r=requests.get(\"https://developers.zomato.com/api/v2.1/restaurant\",headers=header,params={'res_id':18241524})\n",
    "c=r.json()\n",
    "print(c['user_rating']['aggregate_rating'])\n",
    "print(c[\"average_cost_for_two\"])\n",
    "print(c[\"cuisines\"])\n",
    "print(c['location']['address'])"
   ]
  },
  {
   "cell_type": "code",
   "execution_count": 3,
   "metadata": {},
   "outputs": [
    {
     "name": "stdout",
     "output_type": "stream",
     "text": [
      "Himanshu Sharma 5 AMBIENCE - The indoor seating area is perfect for you if you are a sucker for loud and lively places. They have a dj and amazing bar. I personally love the rooftop area because because it has more peace and quiet which has very vintage appeal to it.    FOOD 1. Garlic bread with cheese corn 2. Pasta  3. Chilly potato 4. AD special tikki burger 5. North indian food 6. Lots of mocktails   SERVICE - Initially service was slow but later it gets better and service staff was friendly and ready to help.   I definitely recommend this place.\n",
      "Yash Gupta 3 736 A.D has good food good music. But service is totally slow. We friends had a birthday party here. For 6 people our bill was around 11000 and odd. Prices are very high. Even the service is not good.  The place has good music to dance . But on service point they are lagging behind. They have to improve it for better results.\n",
      "Arpit Jain 3 Just a simple average cafe in Gtb nagar locality. This locality is filled with cafes and good restaurants and everyone need to do something unique to atleast stand in the tough market. The best thing is their pizza, which can also be improved with little efforts but apart from that everything was just average. Infact if anyone want to know about the cafe/restaurant order a drink, this will tell you how good a place can be. And this place disappoints me with a simple drink like LIIT in which nothing can be done wrong as the recipe is too simple too follow.\n",
      "Highovermeals 4 I had a very good time regarding the drinks at 736 A.D . It had good soft music with decent ambience but the staff there was a little bit distracted from the work . Well it's just an opinion no personal grudges . You should surely pay a visit to enjoy drinks at genuine rates 🥃\n",
      "Palak Sharma 4 \n"
     ]
    }
   ],
   "source": [
    "#Fetch the latest review of \"Pa Pa Ya\" restaurant using Zomato API.\n",
    "import requests\n",
    "import json\n",
    "header ={\"Accept\": \"application/json\",\"user-key\":\"1c01a833e8781b43294fe13e219423f7\"}\n",
    "r=requests.get(\"https://developers.zomato.com/api/v2.1/reviews\",headers=header,params={\"res_id\":18241524})\n",
    "b=r.json()\n",
    "c=b['user_reviews']\n",
    "for i in range(0,5):\n",
    "    print(c[i][\"review\"]['user']['name'],c[i][\"review\"]['rating'],c[i][\"review\"]['review_text'])"
   ]
  },
  {
   "cell_type": "code",
   "execution_count": null,
   "metadata": {},
   "outputs": [],
   "source": []
  },
  {
   "cell_type": "code",
   "execution_count": null,
   "metadata": {},
   "outputs": [],
   "source": []
  }
 ],
 "metadata": {
  "kernelspec": {
   "display_name": "Python 3",
   "language": "python",
   "name": "python3"
  },
  "language_info": {
   "codemirror_mode": {
    "name": "ipython",
    "version": 3
   },
   "file_extension": ".py",
   "mimetype": "text/x-python",
   "name": "python",
   "nbconvert_exporter": "python",
   "pygments_lexer": "ipython3",
   "version": "3.7.6"
  }
 },
 "nbformat": 4,
 "nbformat_minor": 4
}
